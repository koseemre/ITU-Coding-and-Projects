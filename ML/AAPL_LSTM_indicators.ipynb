{
  "nbformat": 4,
  "nbformat_minor": 0,
  "metadata": {
    "colab": {
      "name": "AAPL-LSTM-indicators.ipynb",
      "version": "0.3.2",
      "provenance": [],
      "collapsed_sections": [],
      "include_colab_link": true
    },
    "kernelspec": {
      "name": "python3",
      "display_name": "Python 3"
    }
  },
  "cells": [
    {
      "cell_type": "markdown",
      "metadata": {
        "id": "view-in-github",
        "colab_type": "text"
      },
      "source": [
        "<a href=\"https://colab.research.google.com/github/koseemre/ITU-Coding-and-Projects/blob/master/ML/AAPL_LSTM_indicators.ipynb\" target=\"_parent\"><img src=\"https://colab.research.google.com/assets/colab-badge.svg\" alt=\"Open In Colab\"/></a>"
      ]
    },
    {
      "metadata": {
        "id": "5K3I4Bo7JjXo",
        "colab_type": "code",
        "outputId": "a980f8dc-fb95-4fac-8feb-21ba84567376",
        "colab": {
          "base_uri": "https://localhost:8080/",
          "height": 377
        }
      },
      "cell_type": "code",
      "source": [
        "import math\n",
        "import pandas as pd\n",
        "import numpy as np\n",
        "\n",
        "from IPython.display import display\n",
        "import matplotlib.pyplot as plt\n",
        "plt.rcParams['figure.figsize'] = (18, 12)\n",
        "\n",
        "from keras.layers.core import Dense, Activation, Dropout\n",
        "from keras.layers.recurrent import LSTM\n",
        "from keras.models import Sequential\n",
        "from keras.metrics import mean_squared_error\n",
        "from sklearn.model_selection import StratifiedKFold\n",
        "from sklearn import preprocessing\n",
        "!pip install quandl\n",
        "import quandl\n",
        "from sklearn.preprocessing import MinMaxScaler\n",
        "from sklearn.model_selection import train_test_split\n",
        "from sklearn.metrics import mean_squared_error\n",
        "import sys\n"
      ],
      "execution_count": 0,
      "outputs": [
        {
          "output_type": "stream",
          "text": [
            "Requirement already satisfied: quandl in /usr/local/lib/python3.6/dist-packages (3.3.0)\n",
            "Requirement already satisfied: more-itertools in /usr/local/lib/python3.6/dist-packages (from quandl) (4.2.0)\n",
            "Requirement already satisfied: ndg-httpsclient in /usr/local/lib/python3.6/dist-packages (from quandl) (0.5.0)\n",
            "Requirement already satisfied: pyOpenSSL in /usr/local/lib/python3.6/dist-packages (from quandl) (18.0.0)\n",
            "Requirement already satisfied: six in /usr/local/lib/python3.6/dist-packages (from quandl) (1.11.0)\n",
            "Requirement already satisfied: python-dateutil in /usr/local/lib/python3.6/dist-packages (from quandl) (2.5.3)\n",
            "Requirement already satisfied: pyasn1 in /usr/local/lib/python3.6/dist-packages (from quandl) (0.4.2)\n",
            "Requirement already satisfied: pandas>=0.14 in /usr/local/lib/python3.6/dist-packages (from quandl) (0.22.0)\n",
            "Requirement already satisfied: requests>=2.7.0 in /usr/local/lib/python3.6/dist-packages (from quandl) (2.18.4)\n",
            "Requirement already satisfied: inflection>=0.3.1 in /usr/local/lib/python3.6/dist-packages (from quandl) (0.3.1)\n",
            "Requirement already satisfied: numpy>=1.8 in /usr/local/lib/python3.6/dist-packages (from quandl) (1.14.3)\n",
            "Requirement already satisfied: cryptography>=2.2.1 in /usr/local/lib/python3.6/dist-packages (from pyOpenSSL->quandl) (2.2.2)\n",
            "Requirement already satisfied: pytz>=2011k in /usr/local/lib/python3.6/dist-packages (from pandas>=0.14->quandl) (2018.4)\n",
            "Requirement already satisfied: idna<2.7,>=2.5 in /usr/local/lib/python3.6/dist-packages (from requests>=2.7.0->quandl) (2.6)\n",
            "Requirement already satisfied: urllib3<1.23,>=1.21.1 in /usr/local/lib/python3.6/dist-packages (from requests>=2.7.0->quandl) (1.22)\n",
            "Requirement already satisfied: certifi>=2017.4.17 in /usr/local/lib/python3.6/dist-packages (from requests>=2.7.0->quandl) (2018.4.16)\n",
            "Requirement already satisfied: chardet<3.1.0,>=3.0.2 in /usr/local/lib/python3.6/dist-packages (from requests>=2.7.0->quandl) (3.0.4)\n",
            "Requirement already satisfied: cffi>=1.7; platform_python_implementation != \"PyPy\" in /usr/local/lib/python3.6/dist-packages (from cryptography>=2.2.1->pyOpenSSL->quandl) (1.11.5)\n",
            "Requirement already satisfied: asn1crypto>=0.21.0 in /usr/local/lib/python3.6/dist-packages (from cryptography>=2.2.1->pyOpenSSL->quandl) (0.24.0)\n",
            "Requirement already satisfied: pycparser in /usr/local/lib/python3.6/dist-packages (from cffi>=1.7; platform_python_implementation != \"PyPy\"->cryptography>=2.2.1->pyOpenSSL->quandl) (2.18)\n"
          ],
          "name": "stdout"
        }
      ]
    },
    {
      "metadata": {
        "id": "G7tcQxF8J9h0",
        "colab_type": "code",
        "colab": {}
      },
      "cell_type": "code",
      "source": [
        "quandl.ApiConfig.api_key = 't7wV_HsxHcR6HfpViu-K'"
      ],
      "execution_count": 0,
      "outputs": []
    },
    {
      "metadata": {
        "id": "fc6C_hUrKBAP",
        "colab_type": "code",
        "colab": {}
      },
      "cell_type": "code",
      "source": [
        "def get_stock_data(stock_name, normalize=True, ma=[]):\n",
        "    \n",
        "    df = quandl.get_table('WIKI/PRICES', ticker = stock_name)\n",
        "    df.drop(['ticker', 'adj_open', 'adj_high', 'adj_low', 'adj_close', 'ex-dividend', 'adj_volume', 'split_ratio'], 1, inplace=True)\n",
        "    df.set_index('date', inplace=True)\n",
        "    \n",
        "    \n",
        "          \n",
        "    # Move Adj Close to the rightmost for the ease of training\n",
        "    adj_close = df['close']\n",
        "    df.drop(labels=['close'], axis=1, inplace=True)\n",
        "    df = pd.concat([df, adj_close], axis=1)\n",
        "      \n",
        "    return df"
      ],
      "execution_count": 0,
      "outputs": []
    },
    {
      "metadata": {
        "id": "CzY3kY8eKEXa",
        "colab_type": "code",
        "colab": {}
      },
      "cell_type": "code",
      "source": [
        "#ds = get_stock_data('AAPL', ma=[50, 100, 200])\n",
        "ds = get_stock_data('AAPL')\n",
        "\n"
      ],
      "execution_count": 0,
      "outputs": []
    },
    {
      "metadata": {
        "id": "bvQzrji_KG_n",
        "colab_type": "code",
        "outputId": "8a59aa51-ffac-4b9c-da4d-78d5b1445e8e",
        "colab": {
          "base_uri": "https://localhost:8080/",
          "height": 34
        }
      },
      "cell_type": "code",
      "source": [
        "dataset = ds.iloc[:, [0,1,2,3,4]].values #open high low volume close\n",
        "print(dataset.shape)\n"
      ],
      "execution_count": 0,
      "outputs": [
        {
          "output_type": "stream",
          "text": [
            "(9400, 5)\n"
          ],
          "name": "stdout"
        }
      ]
    },
    {
      "metadata": {
        "id": "OtAnE1YqLEXo",
        "colab_type": "code",
        "colab": {}
      },
      "cell_type": "code",
      "source": [
        "w, h = 1, ds.shape[0];\n",
        "onBalanceVolume = [[0 for x in range(w)] for y in range(h)]\n",
        "onBalanceVolume[0][0]=dataset[0][3]\n",
        "\n",
        "for i in range(1, dataset.shape[0]):\n",
        "  if dataset[i][4] > dataset[i-1][4]:\n",
        "    onBalanceVolume[i][0] = onBalanceVolume[i-1][0] + dataset[i][3]\n",
        "  elif dataset[i][4] <  dataset[i-1][4]:  \n",
        "    onBalanceVolume[i][0] = onBalanceVolume[i-1][0] - dataset[i][3]\n",
        "  else:\n",
        "    onBalanceVolume[i][0] = onBalanceVolume[i-1][0]\n",
        "    \n",
        "\n",
        "o_b_v_array = np.asarray(onBalanceVolume)"
      ],
      "execution_count": 0,
      "outputs": []
    },
    {
      "metadata": {
        "id": "ZKw4GKr3Q-Ba",
        "colab_type": "code",
        "colab": {}
      },
      "cell_type": "code",
      "source": [
        "#cci implementation\n",
        "typPrices=[]\n",
        "MDar = []\n",
        "cci = []\n",
        "\n",
        "def movingAverage(values,window):\n",
        "    weigths = np.repeat(1.0, window)/window\n",
        "    smas = np.convolve(values, weigths, 'valid')\n",
        "    return smas # as a numpy array\n",
        "\n",
        "tf = 14\n",
        "sma = 20\n",
        "i  = 0\n",
        "while i < dataset.shape[0]:\n",
        "  tp = (dataset[i][1] + dataset[i][2] + dataset[i][4])/3\n",
        "  typPrices.append(tp)\n",
        "  i = i+1\n",
        "  \n",
        "SMATP = movingAverage(typPrices,sma)\n",
        "typPrices =  typPrices[sma-1:] \n"
      ],
      "execution_count": 0,
      "outputs": []
    },
    {
      "metadata": {
        "id": "Qo2-39nLgcMg",
        "colab_type": "code",
        "colab": {}
      },
      "cell_type": "code",
      "source": [
        "\n",
        "y = tf\n",
        "while y < len(SMATP):\n",
        "  considerationTP = typPrices[y-tf:y]\n",
        "  considerationSMATP= SMATP[y-tf:y]\n",
        "  MDs = 0\n",
        "  z=0\n",
        "  while z < len(considerationTP):\n",
        "        curMD = abs(considerationTP[z] - considerationSMATP[z])\n",
        "        MDs += curMD\n",
        "        z += 1\n",
        "  MD = MDs/tf\n",
        "  MDar.append(MDs)\n",
        "  \n",
        "  y+=1  \n",
        "\n",
        "\n",
        "\n",
        "typPrices = typPrices [14:]\n",
        "SMATP =SMATP [14:]\n",
        "t = 0\n",
        "while t < len(SMATP):\n",
        "    ccis = (typPrices[t]-SMATP[t]) / (0.015*MDar[t])\n",
        "    cci.append(ccis)\n",
        "    t+=1\n",
        "  \n",
        "\n",
        " \n",
        "\n"
      ],
      "execution_count": 0,
      "outputs": []
    },
    {
      "metadata": {
        "id": "Sfq31M4Sg5Sz",
        "colab_type": "code",
        "outputId": "815c6e54-641e-4b42-d26b-7f52d0fbdc79",
        "colab": {
          "base_uri": "https://localhost:8080/",
          "height": 51
        }
      },
      "cell_type": "code",
      "source": [
        "print(len(cci))\n",
        "cci_array = np.asarray(cci)\n",
        "print(cci_array.shape)"
      ],
      "execution_count": 0,
      "outputs": [
        {
          "output_type": "stream",
          "text": [
            "9367\n",
            "(9367,)\n"
          ],
          "name": "stdout"
        }
      ]
    },
    {
      "metadata": {
        "id": "7uHcE4ueHVA6",
        "colab_type": "code",
        "colab": {}
      },
      "cell_type": "code",
      "source": [
        "\n",
        "w, h = 1, ds.shape[0]-10;\n",
        "Rate_of_Change = [[0 for x in range(w)] for y in range(h)]\n",
        "\n",
        "for i in range(10, dataset.shape[0]):\n",
        "  roc =  (dataset[i][4]/dataset[i-5][4])*100\n",
        "  Rate_of_Change[i-10][0] = roc\n",
        " \n",
        "\n",
        "roc_array = np.asarray(Rate_of_Change)\n"
      ],
      "execution_count": 0,
      "outputs": []
    },
    {
      "metadata": {
        "id": "N_HRIELbKI3m",
        "colab_type": "code",
        "colab": {}
      },
      "cell_type": "code",
      "source": [
        "\n",
        "William_R = [[0 for x in range(w)] for y in range(h)]\n",
        "\n",
        "\n",
        "for i in range(10, dataset.shape[0]):\n",
        "  highest = 0.0\n",
        "  lowest = sys.float_info.max \n",
        "  closed = dataset[i][4]\n",
        "  for counter in range(0, 10):\n",
        "      if dataset[i-counter][1] > highest:\n",
        "        highest = dataset[i-counter][1]\n",
        "      if dataset[i-counter][2] < lowest:\n",
        "        lowest = dataset[i-counter][2] \n",
        "  w_r =  (highest-closed)*-100/(highest-lowest)\n",
        "  William_R[i-10][0] = w_r\n",
        "\n",
        "  \n",
        "w_r_array = np.asarray(William_R)"
      ],
      "execution_count": 0,
      "outputs": []
    },
    {
      "metadata": {
        "id": "m6-thLiPKLxx",
        "colab_type": "code",
        "outputId": "12aca50f-a4b8-4674-c8d2-483f8684f3c1",
        "colab": {
          "base_uri": "https://localhost:8080/",
          "height": 34
        }
      },
      "cell_type": "code",
      "source": [
        "dataset_final = ds.iloc[10:ds.shape[0], [0,3,4]].values\n",
        "dataset_final = np.c_[ dataset_final, w_r_array] \n",
        "\n",
        "\n",
        "\n",
        "print(dataset_final.shape)\n"
      ],
      "execution_count": 0,
      "outputs": [
        {
          "output_type": "stream",
          "text": [
            "(9390, 4)\n"
          ],
          "name": "stdout"
        }
      ]
    },
    {
      "metadata": {
        "id": "1LlRLxFhMIjO",
        "colab_type": "code",
        "colab": {}
      },
      "cell_type": "code",
      "source": [
        "def unroll(data, sequence_length=24):\n",
        " \n",
        "    result = []\n",
        "    for index in range(len(data) - sequence_length):\n",
        "        result.append(data[index: index + sequence_length])\n",
        "    return np.asarray(result)"
      ],
      "execution_count": 0,
      "outputs": []
    },
    {
      "metadata": {
        "id": "4KxJjFeZMNF-",
        "colab_type": "code",
        "colab": {}
      },
      "cell_type": "code",
      "source": [
        "def train_test_split_for_lstm(stocks, prediction_time=1, test_data_size=450, unroll_length=50):\n",
        "\n",
        "    # training data\n",
        "    test_data_cut = test_data_size + unroll_length  + 1\n",
        "    \n",
        "    x_train = np.matrix(stocks[0:-prediction_time - test_data_cut])\n",
        "    y_train = np.matrix(stocks[prediction_time:-test_data_cut])\n",
        "\n",
        "    # test data\n",
        "    x_test =np.matrix(stocks[0 - test_data_cut:-prediction_time])\n",
        "    y_test =np.matrix(stocks[prediction_time - test_data_cut:])\n",
        "\n",
        "    return x_train, x_test, y_train, y_test"
      ],
      "execution_count": 0,
      "outputs": []
    },
    {
      "metadata": {
        "id": "vj3dK-uJMPvW",
        "colab_type": "code",
        "colab": {}
      },
      "cell_type": "code",
      "source": [
        "\n",
        "def plot_lstm_prediction(actual, prediction, title='APPLE Real vs Prediction', y_label='Price USD', x_label='Trading Days'):\n",
        "    fig = plt.figure()\n",
        "    ax = fig.add_subplot(111)\n",
        "\n",
        "    # Add labels\n",
        "    plt.ylabel(y_label)\n",
        "    plt.xlabel(x_label)\n",
        "\n",
        "    # Plot actual and predicted close values\n",
        "\n",
        "    plt.plot(actual, '#00FF00', label='Real Close')\n",
        "    plt.plot(prediction, '#0000FF', label='Predicted Close')\n",
        "\n",
        "    # Set title\n",
        "    ax.set_title(title)\n",
        "    ax.legend(loc='upper left')\n",
        "\n",
        "\n",
        "    plt.show()"
      ],
      "execution_count": 0,
      "outputs": []
    },
    {
      "metadata": {
        "id": "FoBrpupFMT9O",
        "colab_type": "code",
        "outputId": "2d7ff2ce-0c14-4fbb-89c0-e795407aa66a",
        "colab": {
          "base_uri": "https://localhost:8080/",
          "height": 102
        }
      },
      "cell_type": "code",
      "source": [
        "\n",
        "scaler  = MinMaxScaler(feature_range=(0, 1))\n",
        "dataset_scaled = scaler.fit_transform(dataset_final)\n",
        "#test_data_size = int(round(dataset.shape[0]*0.1))\n",
        "X_train, X_test,y_train, y_test = train_test_split_for_lstm(dataset_scaled, 5)\n",
        "\n",
        "y_test_dec= scaler.inverse_transform(y_test)\n",
        "X_train = X_train[:,[0,1,3]]\n",
        "X_test = X_test[:,[0,1,3]]\n",
        "unroll_length = 50\n",
        "X_train = unroll(X_train, unroll_length)\n",
        "X_test =  unroll(X_test, unroll_length)\n",
        "y_train = y_train[-X_train.shape[0]:]\n",
        "y_test = y_test[-X_test.shape[0]:]\n",
        "\n",
        "y_train = y_train[:, 2]\n",
        "y_test = y_test[:, 2]\n",
        "\n",
        "print(\"x_train\", X_train.shape)\n",
        "print(\"y_train\", y_train.shape)\n",
        "print(\"x_test\", X_test.shape)\n",
        "print(\"y_test\", y_test.shape)\n",
        "\n",
        "y_test_decimal = np.zeros(shape=(y_test.shape[0]-50,1))\n",
        "#y_test_decimal= y_test_decimal[0:y_test_decimal.shape[0]-50,2] \n",
        "\n",
        "for i in range(y_test_decimal.shape[0]):\n",
        "    y_test_decimal[i][0] = y_test_dec[i][2]\n",
        "  \n",
        "  \n",
        "print(\"y_test_decimal\", y_test_decimal.shape)\n"
      ],
      "execution_count": 0,
      "outputs": [
        {
          "output_type": "stream",
          "text": [
            "x_train (8834, 50, 3)\n",
            "y_train (8834, 1)\n",
            "x_test (446, 50, 3)\n",
            "y_test (446, 1)\n",
            "y_test_decimal (396, 1)\n"
          ],
          "name": "stdout"
        }
      ]
    },
    {
      "metadata": {
        "id": "goDWjbVEOzRk",
        "colab_type": "code",
        "colab": {}
      },
      "cell_type": "code",
      "source": [
        "def build_model(input_dim, output_dim, return_sequences):\n",
        "  \n",
        "    model = Sequential()\n",
        "    model.add(LSTM(\n",
        "        input_shape=(None, input_dim),\n",
        "        units=output_dim,\n",
        "        return_sequences=return_sequences))\n",
        "\n",
        "    model.add(Dropout(0.2))\n",
        "\n",
        "    model.add(LSTM(\n",
        "        128,\n",
        "        return_sequences=False))\n",
        "\n",
        "    model.add(Dropout(0.2))\n",
        "\n",
        "    model.add(Dense(\n",
        "        units=1))\n",
        "    model.add(Activation('linear'))\n",
        "\n",
        "    return model"
      ],
      "execution_count": 0,
      "outputs": []
    },
    {
      "metadata": {
        "id": "kwr3LLc6M3mM",
        "colab_type": "code",
        "outputId": "3fcf0923-cabd-4f2a-adc6-8fc2ebbf2bf9",
        "colab": {
          "base_uri": "https://localhost:8080/",
          "height": 51
        }
      },
      "cell_type": "code",
      "source": [
        "\n",
        "print(X_train.shape[-1])\n",
        " # build basic lstm model\n",
        "model = build_model(input_dim = X_train.shape[-1],output_dim = unroll_length, return_sequences=True)\n",
        "\n",
        "# Compile the model\n",
        "import time\n",
        "start = time.time()\n",
        "model.compile(loss='mean_squared_error', optimizer='adam')\n",
        "print('compilation time : ', time.time() - start)"
      ],
      "execution_count": 0,
      "outputs": [
        {
          "output_type": "stream",
          "text": [
            "3\n",
            "compilation time :  0.06073474884033203\n"
          ],
          "name": "stdout"
        }
      ]
    },
    {
      "metadata": {
        "id": "vUJK9OITRR0W",
        "colab_type": "code",
        "outputId": "e1420496-a3fb-4081-c901-f336a8016674",
        "colab": {
          "base_uri": "https://localhost:8080/",
          "height": 1054
        }
      },
      "cell_type": "code",
      "source": [
        "model.fit(\n",
        "    X_train,\n",
        "    y_train,\n",
        "    batch_size=256,\n",
        "    epochs=30,\n",
        "    verbose=2)"
      ],
      "execution_count": 0,
      "outputs": [
        {
          "output_type": "stream",
          "text": [
            "Epoch 1/30\n",
            " - 28s - loss: 0.0076\n",
            "Epoch 2/30\n",
            " - 25s - loss: 0.0015\n",
            "Epoch 3/30\n",
            " - 25s - loss: 0.0013\n",
            "Epoch 4/30\n",
            " - 25s - loss: 0.0013\n",
            "Epoch 5/30\n",
            " - 25s - loss: 0.0013\n",
            "Epoch 6/30\n",
            " - 25s - loss: 0.0012\n",
            "Epoch 7/30\n",
            " - 25s - loss: 0.0012\n",
            "Epoch 8/30\n",
            " - 25s - loss: 0.0012\n",
            "Epoch 9/30\n",
            " - 25s - loss: 0.0011\n",
            "Epoch 10/30\n",
            " - 25s - loss: 0.0011\n",
            "Epoch 11/30\n",
            " - 25s - loss: 0.0010\n",
            "Epoch 12/30\n",
            " - 25s - loss: 0.0011\n",
            "Epoch 13/30\n",
            " - 25s - loss: 0.0010\n",
            "Epoch 14/30\n",
            " - 25s - loss: 9.8811e-04\n",
            "Epoch 15/30\n",
            " - 25s - loss: 0.0011\n",
            "Epoch 16/30\n",
            " - 25s - loss: 0.0011\n",
            "Epoch 17/30\n",
            " - 25s - loss: 0.0011\n",
            "Epoch 18/30\n",
            " - 25s - loss: 0.0011\n",
            "Epoch 19/30\n",
            " - 25s - loss: 0.0010\n",
            "Epoch 20/30\n",
            " - 25s - loss: 0.0010\n",
            "Epoch 21/30\n",
            " - 25s - loss: 9.6523e-04\n",
            "Epoch 22/30\n",
            " - 25s - loss: 0.0010\n",
            "Epoch 23/30\n",
            " - 25s - loss: 9.6000e-04\n",
            "Epoch 24/30\n",
            " - 25s - loss: 8.9917e-04\n",
            "Epoch 25/30\n",
            " - 21s - loss: 9.7656e-04\n",
            "Epoch 26/30\n",
            " - 15s - loss: 0.0010\n",
            "Epoch 27/30\n",
            " - 13s - loss: 9.7945e-04\n",
            "Epoch 28/30\n",
            " - 13s - loss: 9.3734e-04\n",
            "Epoch 29/30\n",
            " - 13s - loss: 0.0010\n",
            "Epoch 30/30\n",
            " - 13s - loss: 9.7080e-04\n"
          ],
          "name": "stdout"
        },
        {
          "output_type": "execute_result",
          "data": {
            "text/plain": [
              "<keras.callbacks.History at 0x7f49bcc1ba90>"
            ]
          },
          "metadata": {
            "tags": []
          },
          "execution_count": 79
        }
      ]
    },
    {
      "metadata": {
        "id": "JfDau_mXSUmm",
        "colab_type": "code",
        "colab": {}
      },
      "cell_type": "code",
      "source": [
        "predictions = model.predict(X_test)"
      ],
      "execution_count": 0,
      "outputs": []
    },
    {
      "metadata": {
        "id": "u27NmHmASYkd",
        "colab_type": "code",
        "outputId": "d5d71f34-2e6d-4193-e28a-12b33ea6c968",
        "colab": {
          "base_uri": "https://localhost:8080/",
          "height": 814
        }
      },
      "cell_type": "code",
      "source": [
        "############ Predict & Test the Model ############\n",
        "\n",
        "print(y_test.shape)\n",
        "print(y_test_decimal.shape)\n",
        "print(predictions.shape)\n",
        "print(y_test.shape)\n",
        "\n",
        "predicted_decimal = np.zeros(shape=(y_test_decimal.shape))\n",
        "#print(y_test_temp.shape)\n",
        "#print(predicted_stock_price.shape)\n",
        "for i in range(y_test_decimal.shape[0]):\n",
        "  predicted_decimal[i][0] = ((y_test_decimal[i] * predictions[i])/y_test[i])\n",
        "                            \n",
        "print(predicted_decimal.shape)\n",
        "    \n",
        "predicted_decimal = np.array(predicted_decimal)\n",
        "plot_lstm_prediction(y_test_decimal,predicted_decimal)"
      ],
      "execution_count": 0,
      "outputs": [
        {
          "output_type": "stream",
          "text": [
            "(446, 1)\n",
            "(396, 1)\n",
            "(446, 1)\n",
            "(446, 1)\n",
            "(396, 1)\n"
          ],
          "name": "stdout"
        },
        {
          "output_type": "display_data",
          "data": {
            "image/png": "[encoded data removed]",
            "text/plain": [
              "<matplotlib.figure.Figure at 0x7f49bbcbd0f0>"
            ]
          },
          "metadata": {
            "tags": []
          }
        }
      ]
    },
    {
      "metadata": {
        "id": "GWyWsPYibf-3",
        "colab_type": "code",
        "outputId": "5d34a630-255f-4c10-ebac-9dd2098a1f94",
        "colab": {
          "base_uri": "https://localhost:8080/",
          "height": 51
        }
      },
      "cell_type": "code",
      "source": [
        "trainScore = model.evaluate(X_train, y_train, verbose=0)\n",
        "print('Train Score: %.8f MSE (%.8f RMSE)' % (trainScore, math.sqrt(trainScore)))\n",
        "\n",
        "testScore = model.evaluate(X_test, y_test, verbose=0)\n",
        "print('Test Score: %.8f MSE (%.8f RMSE)' % (testScore, math.sqrt(testScore)))"
      ],
      "execution_count": 0,
      "outputs": [
        {
          "output_type": "stream",
          "text": [
            "Train Score: 0.00072114 MSE (0.02685399 RMSE)\n",
            "Test Score: 0.00011494 MSE (0.01072113 RMSE)\n"
          ],
          "name": "stdout"
        }
      ]
    },
    {
      "metadata": {
        "id": "4W0tcg9szy8v",
        "colab_type": "code",
        "outputId": "a968603f-2e1f-4254-eefe-6f955186c4bd",
        "colab": {
          "base_uri": "https://localhost:8080/",
          "height": 51
        }
      },
      "cell_type": "code",
      "source": [
        "from sklearn.metrics import mean_squared_error\n",
        "mse = mean_squared_error(y_test_decimal, predicted_decimal)\n",
        "print(mse)\n",
        "mse = 0.0\n",
        "for i in range(y_test_decimal.shape[0]):\n",
        "  mse = mse + (y_test_decimal[i]-predicted_decimal[i])*(y_test_decimal[i]-predicted_decimal[i])\n",
        "  \n",
        "mse = mse / y_test_decimal.shape[0]\n",
        "print(mse)\n"
      ],
      "execution_count": 0,
      "outputs": [
        {
          "output_type": "stream",
          "text": [
            "50.24937941826609\n",
            "[50.24937942]\n"
          ],
          "name": "stdout"
        }
      ]
    }
  ]
}