{
  "nbformat": 4,
  "nbformat_minor": 0,
  "metadata": {
    "colab": {
      "name": "AAPL-ann-indicators.ipynb",
      "version": "0.3.2",
      "provenance": [],
      "collapsed_sections": [],
      "include_colab_link": true
    },
    "kernelspec": {
      "name": "python3",
      "display_name": "Python 3"
    },
    "accelerator": "GPU"
  },
  "cells": [
    {
      "cell_type": "markdown",
      "metadata": {
        "id": "view-in-github",
        "colab_type": "text"
      },
      "source": [
        "<a href=\"https://colab.research.google.com/github/koseemre/ITU-Coding-and-Projects/blob/master/ML/AAPL_ann_indicators.ipynb\" target=\"_parent\"><img src=\"https://colab.research.google.com/assets/colab-badge.svg\" alt=\"Open In Colab\"/></a>"
      ]
    },
    {
      "metadata": {
        "id": "NjCasSIOpIST",
        "colab_type": "code",
        "outputId": "67800440-aff6-426e-c02b-77ffe3655a8c",
        "colab": {
          "base_uri": "https://localhost:8080/",
          "height": 785
        }
      },
      "cell_type": "code",
      "source": [
        "import math\n",
        "import numpy as np\n",
        "import pandas as pd\n",
        "\n",
        "from IPython.display import display\n",
        "import matplotlib.pyplot as plt\n",
        "plt.rcParams['figure.figsize'] = (18, 12)\n",
        "\n",
        "import keras\n",
        "from sklearn.preprocessing import MinMaxScaler\n",
        "from sklearn import preprocessing\n",
        "from sklearn.model_selection import train_test_split\n",
        "from sklearn.metrics import mean_squared_error\n",
        "from keras.models import Sequential\n",
        "from keras.layers import Dense\n",
        "from keras.layers import Dropout\n",
        "from keras.models import load_model\n",
        "!pip install quandl\n",
        "import quandl\n",
        "import sys\n"
      ],
      "execution_count": 0,
      "outputs": [
        {
          "output_type": "stream",
          "text": [
            "Using TensorFlow backend.\n"
          ],
          "name": "stderr"
        },
        {
          "output_type": "stream",
          "text": [
            "Collecting quandl\n",
            "  Downloading https://files.pythonhosted.org/packages/47/8c/b61f5c1e9167f4c1c1c2b86991bbbac51a2bd937b36cbc4cc39248dfb2d1/Quandl-3.3.0-py2.py3-none-any.whl\n",
            "Requirement already satisfied: pandas>=0.14 in /usr/local/lib/python3.6/dist-packages (from quandl) (0.22.0)\n",
            "Requirement already satisfied: requests>=2.7.0 in /usr/local/lib/python3.6/dist-packages (from quandl) (2.18.4)\n",
            "Collecting pyOpenSSL (from quandl)\n",
            "\u001b[?25l  Downloading https://files.pythonhosted.org/packages/96/af/9d29e6bd40823061aea2e0574ccb2fcf72bfd6130ce53d32773ec375458c/pyOpenSSL-18.0.0-py2.py3-none-any.whl (53kB)\n",
            "\u001b[K    100% |████████████████████████████████| 61kB 3.7MB/s \n",
            "\u001b[?25hRequirement already satisfied: pyasn1 in /usr/local/lib/python3.6/dist-packages (from quandl) (0.4.2)\n",
            "Requirement already satisfied: python-dateutil in /usr/local/lib/python3.6/dist-packages (from quandl) (2.5.3)\n",
            "Requirement already satisfied: numpy>=1.8 in /usr/local/lib/python3.6/dist-packages (from quandl) (1.14.3)\n",
            "Collecting ndg-httpsclient (from quandl)\n",
            "  Downloading https://files.pythonhosted.org/packages/78/60/1458ed478eb5777498ca57f4fabf2cf9328ac43e5f6db7839cf73704f3a6/ndg_httpsclient-0.5.0-py3-none-any.whl\n",
            "Requirement already satisfied: six in /usr/local/lib/python3.6/dist-packages (from quandl) (1.11.0)\n",
            "Collecting more-itertools (from quandl)\n",
            "\u001b[?25l  Downloading https://files.pythonhosted.org/packages/85/40/90c3b0393e12b9827381004224de8814686e3d7182f9d4182477f600826d/more_itertools-4.2.0-py3-none-any.whl (45kB)\n",
            "\u001b[K    100% |████████████████████████████████| 51kB 8.1MB/s \n",
            "\u001b[?25hCollecting inflection>=0.3.1 (from quandl)\n",
            "  Downloading https://files.pythonhosted.org/packages/d5/35/a6eb45b4e2356fe688b21570864d4aa0d0a880ce387defe9c589112077f8/inflection-0.3.1.tar.gz\n",
            "Requirement already satisfied: pytz>=2011k in /usr/local/lib/python3.6/dist-packages (from pandas>=0.14->quandl) (2018.4)\n",
            "Requirement already satisfied: certifi>=2017.4.17 in /usr/local/lib/python3.6/dist-packages (from requests>=2.7.0->quandl) (2018.4.16)\n",
            "Requirement already satisfied: urllib3<1.23,>=1.21.1 in /usr/local/lib/python3.6/dist-packages (from requests>=2.7.0->quandl) (1.22)\n",
            "Requirement already satisfied: idna<2.7,>=2.5 in /usr/local/lib/python3.6/dist-packages (from requests>=2.7.0->quandl) (2.6)\n",
            "Requirement already satisfied: chardet<3.1.0,>=3.0.2 in /usr/local/lib/python3.6/dist-packages (from requests>=2.7.0->quandl) (3.0.4)\n",
            "Collecting cryptography>=2.2.1 (from pyOpenSSL->quandl)\n",
            "\u001b[?25l  Downloading https://files.pythonhosted.org/packages/fa/f4/3cde3604972dfa2b0fea85b9711948bb4fb70ab64095322aef35071bd254/cryptography-2.2.2-cp34-abi3-manylinux1_x86_64.whl (2.2MB)\n",
            "\u001b[K    100% |████████████████████████████████| 2.2MB 8.0MB/s \n",
            "\u001b[?25hCollecting asn1crypto>=0.21.0 (from cryptography>=2.2.1->pyOpenSSL->quandl)\n",
            "\u001b[?25l  Downloading https://files.pythonhosted.org/packages/ea/cd/35485615f45f30a510576f1a56d1e0a7ad7bd8ab5ed7cdc600ef7cd06222/asn1crypto-0.24.0-py2.py3-none-any.whl (101kB)\n",
            "\u001b[K    100% |████████████████████████████████| 102kB 18.4MB/s \n",
            "\u001b[?25hCollecting cffi>=1.7; platform_python_implementation != \"PyPy\" (from cryptography>=2.2.1->pyOpenSSL->quandl)\n",
            "\u001b[?25l  Downloading https://files.pythonhosted.org/packages/6d/c0/47db8f624f3e4e2f3f27be03a93379d1ba16a1450a7b1aacfa0366e2c0dd/cffi-1.11.5-cp36-cp36m-manylinux1_x86_64.whl (421kB)\n",
            "\u001b[K    100% |████████████████████████████████| 430kB 14.7MB/s \n",
            "\u001b[?25hCollecting pycparser (from cffi>=1.7; platform_python_implementation != \"PyPy\"->cryptography>=2.2.1->pyOpenSSL->quandl)\n",
            "\u001b[?25l  Downloading https://files.pythonhosted.org/packages/8c/2d/aad7f16146f4197a11f8e91fb81df177adcc2073d36a17b1491fd09df6ed/pycparser-2.18.tar.gz (245kB)\n",
            "\u001b[K    100% |████████████████████████████████| 256kB 12.8MB/s \n",
            "\u001b[?25hBuilding wheels for collected packages: inflection, pycparser\n",
            "  Running setup.py bdist_wheel for inflection ... \u001b[?25l-\b \bdone\n",
            "\u001b[?25h  Stored in directory: /content/.cache/pip/wheels/9f/5a/d3/6fc3bf6516d2a3eb7e18f9f28b472110b59325f3f258fe9211\n",
            "  Running setup.py bdist_wheel for pycparser ... \u001b[?25l-\b \b\\\b \bdone\n",
            "\u001b[?25h  Stored in directory: /content/.cache/pip/wheels/c0/a1/27/5ba234bd77ea5a290cbf6d675259ec52293193467a12ef1f46\n",
            "Successfully built inflection pycparser\n",
            "Installing collected packages: asn1crypto, pycparser, cffi, cryptography, pyOpenSSL, ndg-httpsclient, more-itertools, inflection, quandl\n",
            "Successfully installed asn1crypto-0.24.0 cffi-1.11.5 cryptography-2.2.2 inflection-0.3.1 more-itertools-4.2.0 ndg-httpsclient-0.5.0 pyOpenSSL-18.0.0 pycparser-2.18 quandl-3.3.0\n"
          ],
          "name": "stdout"
        }
      ]
    },
    {
      "metadata": {
        "id": "T-3egxLJsY_i",
        "colab_type": "code",
        "colab": {}
      },
      "cell_type": "code",
      "source": [
        "\n",
        "def plot_ann_prediction(actual, prediction, title='AMAZON Real vs Prediction', y_label='Price USD', x_label='Trading Days'):\n",
        "    fig = plt.figure()\n",
        "    ax = fig.add_subplot(111)\n",
        "\n",
        "    # Add labels\n",
        "    plt.ylabel(y_label)\n",
        "    plt.xlabel(x_label)\n",
        "\n",
        "    # Plot actual and predicted close values\n",
        "\n",
        "    plt.plot(actual, '#00FF00', label='Adjusted Close')\n",
        "    plt.plot(prediction, '#0000FF', label='Predicted Close')\n",
        "\n",
        "    # Set title\n",
        "    ax.set_title(title)\n",
        "    ax.legend(loc='upper left')\n",
        "\n",
        "\n",
        "    plt.show()"
      ],
      "execution_count": 0,
      "outputs": []
    },
    {
      "metadata": {
        "id": "nKs84ipSuhKi",
        "colab_type": "code",
        "colab": {}
      },
      "cell_type": "code",
      "source": [
        "quandl.ApiConfig.api_key = 't7wV_HsxHcR6HfpViu-K'"
      ],
      "execution_count": 0,
      "outputs": []
    },
    {
      "metadata": {
        "id": "Ekfx_c3etZjT",
        "colab_type": "code",
        "colab": {}
      },
      "cell_type": "code",
      "source": [
        "def get_stock_data(stock_name, normalize=True, ma=[]):\n",
        "    \n",
        "    df = quandl.get_table('WIKI/PRICES', ticker = stock_name)\n",
        "    df.drop(['ticker', 'adj_open', 'adj_high', 'adj_low', 'adj_close', 'ex-dividend', 'adj_volume', 'split_ratio'], 1, inplace=True)\n",
        "    df.set_index('date', inplace=True)\n",
        "    \n",
        "    # Renaming all the columns so that we can use the old version code\n",
        "    #df.rename(columns={'adj_open': 'Open', 'adj_high': 'High', 'adj_low': 'Low', 'adj_volume': 'Volume', 'adj_close': 'Adj Close'}, inplace=True)\n",
        "    \n",
        "           \n",
        "    # Move Adj Close to the rightmost for the ease of training\n",
        "    adj_close = df['close']\n",
        "    df.drop(labels=['close'], axis=1, inplace=True)\n",
        "    df = pd.concat([df, adj_close], axis=1)\n",
        "      \n",
        "    return df"
      ],
      "execution_count": 0,
      "outputs": []
    },
    {
      "metadata": {
        "id": "Pr4um6aXGxOt",
        "colab_type": "code",
        "outputId": "75a7fc5b-19ec-483c-f700-4677ae338a66",
        "colab": {
          "base_uri": "https://localhost:8080/",
          "height": 1122
        }
      },
      "cell_type": "code",
      "source": [
        "ds = get_stock_data('AAPL')\n",
        "\n",
        "print(ds)"
      ],
      "execution_count": 0,
      "outputs": [
        {
          "output_type": "stream",
          "text": [
            "               open     high       low      volume    close\n",
            "date                                                       \n",
            "1980-12-12   28.750   28.870   28.7500   2093900.0   28.750\n",
            "1980-12-15   27.380   27.380   27.2500    785200.0   27.250\n",
            "1980-12-16   25.370   25.370   25.2500    472000.0   25.250\n",
            "1980-12-17   25.870   26.000   25.8700    385900.0   25.870\n",
            "1980-12-18   26.630   26.750   26.6300    327900.0   26.630\n",
            "1980-12-19   28.250   28.380   28.2500    217100.0   28.250\n",
            "1980-12-22   29.630   29.750   29.6300    166800.0   29.630\n",
            "1980-12-23   30.880   31.000   30.8800    209600.0   30.880\n",
            "1980-12-24   32.500   32.630   32.5000    214300.0   32.500\n",
            "1980-12-26   35.500   35.620   35.5000    248100.0   35.500\n",
            "1980-12-29   36.000   36.130   36.0000    415900.0   36.000\n",
            "1980-12-30   35.250   35.250   35.1200    307500.0   35.120\n",
            "1980-12-31   34.250   34.250   34.1300    159600.0   34.130\n",
            "1981-01-02   34.500   34.750   34.5000     96700.0   34.500\n",
            "1981-01-05   33.870   33.870   33.7500    159500.0   33.750\n",
            "1981-01-06   32.370   32.370   32.2500    201600.0   32.250\n",
            "1981-01-07   31.000   31.000   30.8800    248600.0   30.880\n",
            "1981-01-08   30.370   30.370   30.2500    177800.0   30.250\n",
            "1981-01-09   31.880   32.000   31.8800     96000.0   31.880\n",
            "1981-01-12   31.880   31.880   31.6200    105800.0   31.620\n",
            "1981-01-13   30.630   30.630   30.5000    102900.0   30.500\n",
            "1981-01-14   30.630   30.750   30.6300     63800.0   30.630\n",
            "1981-01-15   31.250   31.500   31.2500     62800.0   31.250\n",
            "1981-01-16   31.120   31.120   31.0000     59800.0   31.000\n",
            "1981-01-19   32.870   33.000   32.8700    185600.0   32.870\n",
            "1981-01-20   32.000   32.000   31.8800    134300.0   31.880\n",
            "1981-01-21   32.500   32.750   32.5000     71000.0   32.500\n",
            "1981-01-22   32.870   33.130   32.8700    158700.0   32.870\n",
            "1981-01-23   32.870   33.000   32.7500     50100.0   32.750\n",
            "1981-01-26   32.370   32.370   32.2500    110000.0   32.250\n",
            "...             ...      ...       ...         ...      ...\n",
            "2018-02-13  161.950  164.750  161.6500  32104756.0  164.340\n",
            "2018-02-14  163.045  167.540  162.8800  39669178.0  167.370\n",
            "2018-02-15  169.790  173.090  169.0000  50609595.0  172.990\n",
            "2018-02-16  172.360  174.820  171.7700  39638793.0  172.430\n",
            "2018-02-20  172.050  174.260  171.4200  33531012.0  171.850\n",
            "2018-02-21  172.830  174.120  171.0100  35833514.0  171.070\n",
            "2018-02-22  171.800  173.950  171.7100  30504116.0  172.600\n",
            "2018-02-23  173.670  175.650  173.5400  33329232.0  175.555\n",
            "2018-02-26  176.350  179.390  176.2100  36886432.0  178.970\n",
            "2018-02-27  179.100  180.480  178.1600  38685165.0  178.390\n",
            "2018-02-28  179.260  180.615  178.0500  33604574.0  178.120\n",
            "2018-03-01  178.540  179.775  172.6600  48801970.0  175.000\n",
            "2018-03-02  172.800  176.300  172.4500  38453950.0  176.210\n",
            "2018-03-05  175.210  177.740  174.5200  28401366.0  176.820\n",
            "2018-03-06  177.910  178.250  176.1300  23788506.0  176.670\n",
            "2018-03-07  174.940  175.850  174.2700  31703462.0  175.030\n",
            "2018-03-08  175.480  177.120  175.0700  23163767.0  176.940\n",
            "2018-03-09  177.960  180.000  177.3900  31385134.0  179.980\n",
            "2018-03-12  180.290  182.390  180.2100  32055405.0  181.720\n",
            "2018-03-13  182.590  183.500  179.2400  31168404.0  179.970\n",
            "2018-03-14  180.320  180.520  177.8100  29075469.0  178.440\n",
            "2018-03-15  178.500  180.240  178.0701  22584565.0  178.650\n",
            "2018-03-16  178.650  179.120  177.6200  36836456.0  178.020\n",
            "2018-03-19  177.320  177.470  173.6600  32804695.0  175.300\n",
            "2018-03-20  175.240  176.800  174.9400  19314039.0  175.240\n",
            "2018-03-21  175.040  175.090  171.2600  35247358.0  171.270\n",
            "2018-03-22  170.000  172.680  168.6000  41051076.0  168.845\n",
            "2018-03-23  168.390  169.920  164.9400  40248954.0  164.940\n",
            "2018-03-26  168.070  173.100  166.4400  36272617.0  172.770\n",
            "2018-03-27  173.680  175.150  166.9200  38962839.0  168.340\n",
            "\n",
            "[9400 rows x 5 columns]\n"
          ],
          "name": "stdout"
        }
      ]
    },
    {
      "metadata": {
        "id": "XGpX7Bn8tkgx",
        "colab_type": "code",
        "colab": {}
      },
      "cell_type": "code",
      "source": [
        "#ds = get_stock_data('AAPL', ma=[50, 100, 200])\n",
        "ds = get_stock_data('AAPL')\n",
        "dataset = ds.iloc[:, [0,1,2,3,4]].values   #open high low volume close\n"
      ],
      "execution_count": 0,
      "outputs": []
    },
    {
      "metadata": {
        "id": "yYOX6v3oCkN2",
        "colab_type": "code",
        "colab": {}
      },
      "cell_type": "code",
      "source": [
        "w, h = 1, ds.shape[0];\n",
        "onBalanceVolume = [[0 for x in range(w)] for y in range(h)]\n",
        "onBalanceVolume[0][0]=0\n",
        "\n",
        "for i in range(1, dataset.shape[0]):\n",
        "  if dataset[i][4] > dataset[i-1][4]:\n",
        "    onBalanceVolume[i][0] = onBalanceVolume[i-1][0] + dataset[i][3]\n",
        "  elif dataset[i][4] <  dataset[i-1][4]:  \n",
        "    onBalanceVolume[i][0] = onBalanceVolume[i-1][0] - dataset[i][3]\n",
        "  else:\n",
        "    onBalanceVolume[i][0] = onBalanceVolume[i-1][0]\n",
        "    \n",
        "\n",
        "o_b_v_array = np.asarray(onBalanceVolume)"
      ],
      "execution_count": 0,
      "outputs": []
    },
    {
      "metadata": {
        "id": "52swPzro80jl",
        "colab_type": "code",
        "colab": {}
      },
      "cell_type": "code",
      "source": [
        "w, h = 1, ds.shape[0]-10;\n",
        "William_R = [[0 for x in range(w)] for y in range(h)]\n",
        "\n",
        "\n",
        "for i in range(10, dataset.shape[0]):\n",
        "  highest = 0.0\n",
        "  lowest = sys.float_info.max \n",
        "  closed = dataset[i][4]\n",
        "  for counter in range(0, 10):\n",
        "      if dataset[i-counter][1] > highest:\n",
        "        highest = dataset[i-counter][1]\n",
        "      if dataset[i-counter][2] < lowest:\n",
        "        lowest = dataset[i-counter][2] \n",
        "  w_r =  (highest-closed)*-100/(highest-lowest)\n",
        "  William_R[i-10][0] = w_r\n",
        "\n",
        "  \n",
        "w_r_array = np.asarray(William_R)"
      ],
      "execution_count": 0,
      "outputs": []
    },
    {
      "metadata": {
        "id": "rQ3nmH6ql89_",
        "colab_type": "code",
        "colab": {}
      },
      "cell_type": "code",
      "source": [
        "def movingAverage(values,window):\n",
        "    weigths = np.repeat(1.0, window)/window\n",
        "    smas = np.convolve(values, weigths, 'valid')\n",
        "    return smas # as a numpy array\n",
        "  \n",
        "  \n",
        "#cci implementation\n",
        "typPrices=[]\n",
        "MDar = []\n",
        "cci = []\n",
        "\n",
        "\n",
        "tf = 14\n",
        "sma = 20\n",
        "i  = 0\n",
        "while i < dataset.shape[0]:\n",
        "  tp = (dataset[i][1] + dataset[i][2] + dataset[i][4])/3\n",
        "  typPrices.append(tp)\n",
        "  i = i+1\n",
        "  \n",
        "SMATP = movingAverage(typPrices,sma)\n",
        "typPrices =  typPrices[sma-1:] \n",
        "\n",
        "\n",
        "y = tf\n",
        "while y < len(SMATP):\n",
        "  considerationTP = typPrices[y-tf:y]\n",
        "  considerationSMATP= SMATP[y-tf:y]\n",
        "  MDs = 0\n",
        "  z=0\n",
        "  while z < len(considerationTP):\n",
        "        curMD = abs(considerationTP[z] - considerationSMATP[z])\n",
        "        MDs += curMD\n",
        "        z += 1\n",
        "  MD = MDs/tf\n",
        "  MDar.append(MDs)\n",
        "  \n",
        "  y+=1  \n",
        "\n",
        "\n",
        "\n",
        "typPrices = typPrices [14:]\n",
        "SMATP =SMATP [14:]\n",
        "t = 0\n",
        "while t < len(SMATP):\n",
        "    ccis = (typPrices[t]-SMATP[t]) / (0.015*MDar[t])\n",
        "    cci.append(ccis)\n",
        "    t+=1\n",
        "  \n",
        "  \n",
        "  \n",
        "cci_array = np.asarray(cci)\n"
      ],
      "execution_count": 0,
      "outputs": []
    },
    {
      "metadata": {
        "id": "WaofIEPcmDwH",
        "colab_type": "code",
        "colab": {}
      },
      "cell_type": "code",
      "source": [
        "#rate of change\n",
        "w, h = 1, ds.shape[0]-10;\n",
        "Rate_of_Change = [[0 for x in range(w)] for y in range(h)]\n",
        "\n",
        "for i in range(10, dataset.shape[0]):\n",
        "  roc =  (dataset[i][4]-dataset[i-5][4])\n",
        "  Rate_of_Change[i-10][0] = roc\n",
        " \n",
        "\n",
        "roc_array = np.asarray(Rate_of_Change)\n"
      ],
      "execution_count": 0,
      "outputs": []
    },
    {
      "metadata": {
        "id": "wCoiJG2a_Nap",
        "colab_type": "code",
        "outputId": "99411c94-a83d-460d-ae5a-8500de8ca85a",
        "colab": {
          "base_uri": "https://localhost:8080/",
          "height": 34
        }
      },
      "cell_type": "code",
      "source": [
        "dataset_final = ds.iloc[10:ds.shape[0], [0,3,4]].values\n",
        "dataset_final = np.c_[ dataset_final, w_r_array] \n",
        "\n",
        "print(dataset_final.shape)\n",
        "\n",
        "# Feature Scaling\n",
        "scaler  = MinMaxScaler(feature_range=(0, 1))\n",
        "dataset_scaled = scaler.fit_transform(dataset_final)\n",
        "X = dataset_scaled[:, [0,1,3]]\n",
        "y = dataset_scaled[:, 2]\n",
        "\n"
      ],
      "execution_count": 0,
      "outputs": [
        {
          "output_type": "stream",
          "text": [
            "(9390, 4)\n"
          ],
          "name": "stdout"
        }
      ]
    },
    {
      "metadata": {
        "id": "BKSDwvqmvIoV",
        "colab_type": "code",
        "outputId": "fa06ae29-1cb9-465f-fafb-779404bde9b0",
        "colab": {
          "base_uri": "https://localhost:8080/",
          "height": 697
        }
      },
      "cell_type": "code",
      "source": [
        "# Splitting the dataset into the Training set and Test set\n",
        "X_train, X_test, y_train, y_test = train_test_split(X, y, test_size = 0.1, shuffle=False)\n",
        "# Sizes of train_ds, test_ds\n",
        "dataset_sz = X.shape[0]\n",
        "train_sz = X_train.shape[0]\n",
        "test_sz = X_test.shape[0]\n",
        "\n",
        "############ Building the ANN ############\n",
        "# Initialising the ANN\n",
        "regressor = Sequential()\n",
        "\n",
        "# Adding the input layer and the first hidden layer and Drop out Regularization\n",
        "regressor.add(Dense(units = 500, kernel_initializer = 'uniform', activation = 'relu', input_dim = 3))\n",
        "regressor.add(Dropout(.2))\n",
        "\n",
        "# Adding the first hidden layer and Drop out Regularization\n",
        "regressor.add(Dense(units = 500, kernel_initializer = 'uniform', activation = 'relu'))\n",
        "regressor.add(Dropout(.2))\n",
        "\n",
        "# Adding the second hidden layer and Drop out Regularization\n",
        "regressor.add(Dense(units = 500, kernel_initializer = 'uniform', activation = 'relu'))\n",
        "regressor.add(Dropout(.2))\n",
        "\n",
        "# Adding the third hidden layer and Drop out Regularization\n",
        "regressor.add(Dense(units = 500, kernel_initializer = 'uniform', activation = 'relu'))\n",
        "regressor.add(Dropout(.2))\n",
        "\n",
        "# Adding the output layer\n",
        "regressor.add(Dense(units = 1, kernel_initializer = 'uniform', activation = 'linear'))\n",
        "\n",
        "# Compiling the ANN\n",
        "regressor.compile(optimizer = 'adam', loss = 'mean_squared_error')\n",
        "\n",
        "# Fitting the ANN to the Training set\n",
        "regressor.fit(X_train, y_train, batch_size = 32, epochs = 20)\n",
        "\n",
        "\n",
        "\n",
        "\n",
        "# Save Trained Model\n",
        "regressor.save('TICKER-BKP.h5')\n",
        "\n",
        "# deletes the existing model\n",
        "del regressor\n",
        "\n",
        "# load Trained Model\n",
        "regressor = load_model('TICKER-BKP.h5')\n",
        "\n",
        "\n"
      ],
      "execution_count": 0,
      "outputs": [
        {
          "output_type": "stream",
          "text": [
            "Epoch 1/20\n",
            "8451/8451 [==============================] - 3s 389us/step - loss: 0.0033\n",
            "Epoch 2/20\n",
            "8451/8451 [==============================] - 2s 251us/step - loss: 8.5112e-04\n",
            "Epoch 3/20\n",
            "8451/8451 [==============================] - 2s 252us/step - loss: 9.9121e-04\n",
            "Epoch 4/20\n",
            "8451/8451 [==============================] - 2s 252us/step - loss: 8.7482e-04\n",
            "Epoch 5/20\n",
            "8451/8451 [==============================] - 2s 248us/step - loss: 7.0990e-04\n",
            "Epoch 6/20\n",
            "8451/8451 [==============================] - 2s 251us/step - loss: 6.7435e-04\n",
            "Epoch 7/20\n",
            "8451/8451 [==============================] - 2s 258us/step - loss: 6.1320e-04\n",
            "Epoch 8/20\n",
            " 480/8451 [>.............................] - ETA: 1s - loss: 5.1222e-04"
          ],
          "name": "stdout"
        },
        {
          "output_type": "stream",
          "text": [
            "8451/8451 [==============================] - 2s 253us/step - loss: 4.6627e-04\n",
            "Epoch 9/20\n",
            "8451/8451 [==============================] - 2s 254us/step - loss: 4.9654e-04\n",
            "Epoch 10/20\n",
            "8451/8451 [==============================] - 2s 249us/step - loss: 4.7443e-04\n",
            "Epoch 11/20\n",
            "8451/8451 [==============================] - 2s 253us/step - loss: 5.0730e-04\n",
            "Epoch 12/20\n",
            "8451/8451 [==============================] - 2s 251us/step - loss: 3.8747e-04\n",
            "Epoch 13/20\n",
            "8451/8451 [==============================] - 2s 249us/step - loss: 4.3390e-04\n",
            "Epoch 14/20\n",
            "8451/8451 [==============================] - 2s 253us/step - loss: 4.7123e-04\n",
            "Epoch 15/20\n",
            " 704/8451 [=>............................] - ETA: 1s - loss: 2.5518e-04"
          ],
          "name": "stdout"
        },
        {
          "output_type": "stream",
          "text": [
            "8451/8451 [==============================] - 2s 247us/step - loss: 3.9120e-04\n",
            "Epoch 16/20\n",
            "8451/8451 [==============================] - 2s 246us/step - loss: 3.7707e-04\n",
            "Epoch 17/20\n",
            "8451/8451 [==============================] - 2s 251us/step - loss: 3.4531e-04\n",
            "Epoch 18/20\n",
            "8451/8451 [==============================] - 2s 252us/step - loss: 3.9061e-04\n",
            "Epoch 19/20\n",
            "8451/8451 [==============================] - 2s 250us/step - loss: 4.3116e-04\n",
            "Epoch 20/20\n",
            "8451/8451 [==============================] - 2s 252us/step - loss: 4.1221e-04\n"
          ],
          "name": "stdout"
        }
      ]
    },
    {
      "metadata": {
        "id": "gvKjxUIQs5eh",
        "colab_type": "code",
        "colab": {}
      },
      "cell_type": "code",
      "source": [
        "############ Predict & Test the Model ############\n",
        "y_test_temp = dataset_final[X_train.shape[0]:ds.shape[0]-1,2]\n",
        "############ Predict & Test the Model ############\n",
        "inputs =  np.array(X_test)\n",
        "predicted_stock_price = regressor.predict(inputs)\n",
        "predicted_decimal = []\n",
        "#print(y_test_temp.shape)\n",
        "#print(predicted_stock_price.shape)\n",
        "for i in range(y_test_temp.shape[0]):\n",
        "  predicted_decimal.append((y_test_temp[i] * predicted_stock_price[i])/y_test[i])\n",
        "                            \n",
        "                            \n",
        "predicted_decimal = np.array(predicted_decimal)\n",
        "#print(y_test_temp)\n",
        "#print(predicted_decimal)"
      ],
      "execution_count": 0,
      "outputs": []
    },
    {
      "metadata": {
        "id": "X5qZa_azzxgV",
        "colab_type": "code",
        "outputId": "ed2bbd43-1f1c-4fef-9ef1-8b28faaca979",
        "colab": {
          "base_uri": "https://localhost:8080/",
          "height": 583
        }
      },
      "cell_type": "code",
      "source": [
        "import plotly\n",
        "import plotly.plotly as py\n",
        "import plotly.graph_objs as go\n",
        "plotly.tools.set_credentials_file(username='koseemr', api_key='E7jrNXXlB05yFJkjP3iU')\n",
        "trace0 = go.Scatter(\n",
        "    x = np.arange(predicted_decimal.shape[0]),\n",
        "    y = predicted_decimal,\n",
        "    mode = 'lines',\n",
        "    name = 'predicted'\n",
        ")\n",
        "trace1 = go.Scatter(\n",
        "    x = np.arange(y_test_temp.shape[0]),\n",
        "    y = y_test_temp,\n",
        "    mode = 'lines',\n",
        "    name = 'real'\n",
        ")\n",
        "data = [trace0,trace1]\n",
        "layout = go.Layout(\n",
        "    title='Predictions for Apple-ANN',\n",
        "    xaxis=dict(\n",
        "        title='days',\n",
        "        titlefont=dict(\n",
        "            family='Courier New, monospace',\n",
        "            size=18,\n",
        "            color='#7f7f7f'\n",
        "        )\n",
        "    ),\n",
        "    yaxis=dict(\n",
        "        title='price of stock',\n",
        "        titlefont=dict(\n",
        "            family='Courier New, monospace',\n",
        "            size=18,\n",
        "            color='#7f7f7f'\n",
        "        )\n",
        "    )\n",
        ")\n",
        "fig = go.Figure(data=data, layout=layout)\n",
        "py.iplot(fig, filename='line-mode')\n"
      ],
      "execution_count": 0,
      "outputs": [
        {
          "output_type": "stream",
          "text": [
            "High five! You successfully sent some data to your account on plotly. View your plot in your browser at https://plot.ly/~koseemr/0 or inside your plot.ly account where it is named 'line-mode'\n"
          ],
          "name": "stdout"
        },
        {
          "output_type": "execute_result",
          "data": {
            "text/html": [
              "<iframe id=\"igraph\" scrolling=\"no\" style=\"border:none;\" seamless=\"seamless\" src=\"https://plot.ly/~koseemr/0.embed\" height=\"525px\" width=\"100%\"></iframe>"
            ],
            "text/plain": [
              "<plotly.tools.PlotlyDisplay object>"
            ]
          },
          "metadata": {
            "tags": []
          },
          "execution_count": 14
        }
      ]
    },
    {
      "metadata": {
        "id": "_1IGNaou9Usg",
        "colab_type": "code",
        "outputId": "ec0921f8-8748-4792-8ff6-9df8ffe4d71b",
        "colab": {
          "base_uri": "https://localhost:8080/",
          "height": 51
        }
      },
      "cell_type": "code",
      "source": [
        "from sklearn.metrics import mean_squared_error\n",
        "mse = mean_squared_error(y_test_temp, predicted_decimal)\n",
        "print(mse)\n",
        "mse = 0.0\n",
        "for i in range(y_test_temp.shape[0]):\n",
        "  mse = mse + (y_test_temp[i]-predicted_decimal[i])*(y_test_temp[i]-predicted_decimal[i])\n",
        "  \n",
        "mse = mse / y_test_temp.shape[0]\n",
        "print(mse)\n"
      ],
      "execution_count": 0,
      "outputs": [
        {
          "output_type": "stream",
          "text": [
            "29.259506490995424\n",
            "[29.259502]\n"
          ],
          "name": "stdout"
        }
      ]
    }
  ]
}